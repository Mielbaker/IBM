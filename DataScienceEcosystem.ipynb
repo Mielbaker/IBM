{
 "cells": [
  {
   "cell_type": "markdown",
   "id": "3e301486",
   "metadata": {},
   "source": [
    "<H1>Data Science Tools and Ecosystem</H1>"
   ]
  },
  {
   "cell_type": "markdown",
   "id": "ce64f60f",
   "metadata": {},
   "source": [
    "In this notebook, Data Science Tools and Ecosystem are summarized."
   ]
  },
  {
   "cell_type": "markdown",
   "id": "24f79e9e",
   "metadata": {},
   "source": [
    "<B>Objectives</B>\n",
    "<ul>\n",
    "    <li>Data Science Tools</li>\n",
    "    <li>List of popular languages</li>\n",
    "    <li>Libraries and APIs</li>\n",
    "    <li>Learning to use Jupyter notebook and Rstudio</li>\n",
    "    <li>The Data Science Ecosystem</li>\n",
    "</ul>\n"
   ]
  },
  {
   "cell_type": "markdown",
   "id": "47a34be5",
   "metadata": {},
   "source": [
    "Some of the popular languages that Data Scientists use are:\n",
    "\n",
    "1. R\n",
    "2. Python\n",
    "3. SQL\n",
    "4. Java\n",
    "5. Watson"
   ]
  },
  {
   "cell_type": "markdown",
   "id": "e7930ec3",
   "metadata": {},
   "source": [
    "Some of the commonly used libraries used by Data Scientists include:\n",
    "\n",
    "1. Keras\n",
    "2. Matplotlib\n",
    "3. Seaborn\n",
    "4. Pandas\n",
    "5. Scikit-Learn\n",
    "6. Numpy"
   ]
  },
  {
   "cell_type": "markdown",
   "id": "e97a90f9",
   "metadata": {},
   "source": [
    "| Data Science Tools      |\n",
    "|-------------------------|\n",
    "| Jupyter Notebook         |\n",
    "| RStudio                 |\n",
    "| Visual Studio Code      |\n",
    "| PyCharm                 |\n",
    "| JupyterLab.             |"
   ]
  },
  {
   "cell_type": "markdown",
   "id": "9f6e0cc3",
   "metadata": {},
   "source": [
    "<H3>Below are a few examples of evaluating arithmetic expressions in Python</H3>"
   ]
  },
  {
   "cell_type": "code",
   "execution_count": 2,
   "id": "4b874296",
   "metadata": {},
   "outputs": [
    {
     "data": {
      "text/plain": [
       "17"
      ]
     },
     "execution_count": 2,
     "metadata": {},
     "output_type": "execute_result"
    }
   ],
   "source": [
    "# This a simple arithmetic expression to mutiply then add integers\n",
    "\n",
    "(3*4)+5"
   ]
  },
  {
   "cell_type": "code",
   "execution_count": 3,
   "id": "a59a2845",
   "metadata": {},
   "outputs": [
    {
     "data": {
      "text/plain": [
       "3.3333333333333335"
      ]
     },
     "execution_count": 3,
     "metadata": {},
     "output_type": "execute_result"
    }
   ],
   "source": [
    "# This will convert 200 minutes to hours by diving by 60\n",
    "\n",
    "200/60 "
   ]
  },
  {
   "cell_type": "markdown",
   "id": "1b6f85ee",
   "metadata": {},
   "source": [
    "<H2>Author</H2>\n",
    "\n",
    "Oyinkansola Bakare"
   ]
  },
  {
   "cell_type": "code",
   "execution_count": null,
   "id": "ea9d58d6",
   "metadata": {},
   "outputs": [],
   "source": []
  }
 ],
 "metadata": {
  "kernelspec": {
   "display_name": "Python 3 (ipykernel)",
   "language": "python",
   "name": "python3"
  },
  "language_info": {
   "codemirror_mode": {
    "name": "ipython",
    "version": 3
   },
   "file_extension": ".py",
   "mimetype": "text/x-python",
   "name": "python",
   "nbconvert_exporter": "python",
   "pygments_lexer": "ipython3",
   "version": "3.9.12"
  }
 },
 "nbformat": 4,
 "nbformat_minor": 5
}
